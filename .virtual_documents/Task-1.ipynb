#Operations on List
list=['apple','banana','cherry']



list.append("orange")


list


list.remove("apple")
list


list[1]="litchi"
list


#Operations on Set

myset={'car','Bus','Truck'}
myset



myset.add("Bike")
myset


myset.remove("Truck")


myset


myset1={'rickshaw','boat'}

myset.update(myset1)
myset


#Operations on Dictionary

dict={'name':["Debjeet","Debarati","Rohan","Abhishek"],
      'id':['cs2002','cs2008','cs7098','cs3409'],
      'occupation':["Analyst","Developer","Manger","Tester"]}
dict


dict.update({'salary':['800000','100000','450000','600000']})


dict
