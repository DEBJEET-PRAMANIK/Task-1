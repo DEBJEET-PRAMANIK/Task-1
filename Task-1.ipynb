{
 "cells": [
  {
   "cell_type": "code",
   "execution_count": 25,
   "id": "c947fb88-b584-4426-b6de-11ca1f692caa",
   "metadata": {},
   "outputs": [],
   "source": [
    "#Operations on List\n",
    "list=['apple','banana','cherry']\n"
   ]
  },
  {
   "cell_type": "code",
   "execution_count": 26,
   "id": "a11a9ff3-374b-4487-abb5-5a501b1f0cfe",
   "metadata": {},
   "outputs": [],
   "source": [
    "list.append(\"orange\")"
   ]
  },
  {
   "cell_type": "code",
   "execution_count": 27,
   "id": "ed284a0d-d930-418f-9ebc-59138dfe40df",
   "metadata": {},
   "outputs": [
    {
     "data": {
      "text/plain": [
       "['apple', 'banana', 'cherry', 'orange']"
      ]
     },
     "execution_count": 27,
     "metadata": {},
     "output_type": "execute_result"
    }
   ],
   "source": [
    "list"
   ]
  },
  {
   "cell_type": "code",
   "execution_count": 28,
   "id": "d745b964-119f-43f0-b9ad-eff24fe2726f",
   "metadata": {},
   "outputs": [
    {
     "data": {
      "text/plain": [
       "['banana', 'cherry', 'orange']"
      ]
     },
     "execution_count": 28,
     "metadata": {},
     "output_type": "execute_result"
    }
   ],
   "source": [
    "list.remove(\"apple\")\n",
    "list"
   ]
  },
  {
   "cell_type": "code",
   "execution_count": 31,
   "id": "ced5c94a-e442-4c7a-ae88-7787e155d9f3",
   "metadata": {},
   "outputs": [
    {
     "data": {
      "text/plain": [
       "['banana', 'litchi', 'orange']"
      ]
     },
     "execution_count": 31,
     "metadata": {},
     "output_type": "execute_result"
    }
   ],
   "source": [
    "list[1]=\"litchi\"\n",
    "list"
   ]
  },
  {
   "cell_type": "code",
   "execution_count": 44,
   "id": "f20ff212-418f-43de-b6d2-fd13f7c1ef38",
   "metadata": {},
   "outputs": [
    {
     "data": {
      "text/plain": [
       "{'Bus', 'Truck', 'car'}"
      ]
     },
     "execution_count": 44,
     "metadata": {},
     "output_type": "execute_result"
    }
   ],
   "source": [
    "#Operations on Set\n",
    "\n",
    "myset={'car','Bus','Truck'}\n",
    "myset\n"
   ]
  },
  {
   "cell_type": "code",
   "execution_count": 45,
   "id": "3cae2be1-5893-4161-8f93-53441f29c904",
   "metadata": {},
   "outputs": [
    {
     "data": {
      "text/plain": [
       "{'Bike', 'Bus', 'Truck', 'car'}"
      ]
     },
     "execution_count": 45,
     "metadata": {},
     "output_type": "execute_result"
    }
   ],
   "source": [
    "myset.add(\"Bike\")\n",
    "myset"
   ]
  },
  {
   "cell_type": "code",
   "execution_count": 46,
   "id": "f7c14b02-21fa-4ca0-a3ba-3390b72a17d8",
   "metadata": {},
   "outputs": [],
   "source": [
    "myset.remove(\"Truck\")"
   ]
  },
  {
   "cell_type": "code",
   "execution_count": 48,
   "id": "bf536739-54ea-43d3-860f-3c92ade93e77",
   "metadata": {},
   "outputs": [
    {
     "data": {
      "text/plain": [
       "{'Bike', 'Bus', 'car'}"
      ]
     },
     "execution_count": 48,
     "metadata": {},
     "output_type": "execute_result"
    }
   ],
   "source": [
    "myset"
   ]
  },
  {
   "cell_type": "code",
   "execution_count": 55,
   "id": "02247e66-1f83-49a9-bdb3-e8b0467badf9",
   "metadata": {},
   "outputs": [
    {
     "data": {
      "text/plain": [
       "{'Bike', 'Bus', 'boat', 'car', 'rickshaw'}"
      ]
     },
     "execution_count": 55,
     "metadata": {},
     "output_type": "execute_result"
    }
   ],
   "source": [
    "myset1={'rickshaw','boat'}\n",
    "\n",
    "myset.update(myset1)\n",
    "myset"
   ]
  },
  {
   "cell_type": "code",
   "execution_count": 2,
   "id": "a442b987-64bc-49d5-9dbb-19eecea797e4",
   "metadata": {},
   "outputs": [
    {
     "data": {
      "text/plain": [
       "{'name': ['Debjeet', 'Debarati', 'Rohan', 'Abhishek'],\n",
       " 'id': ['cs2002', 'cs2008', 'cs7098', 'cs3409'],\n",
       " 'occupation': ['Analyst', 'Developer', 'Manger', 'Tester']}"
      ]
     },
     "execution_count": 2,
     "metadata": {},
     "output_type": "execute_result"
    }
   ],
   "source": [
    "#Operations on Dictionary\n",
    "\n",
    "dict={'name':[\"Debjeet\",\"Debarati\",\"Rohan\",\"Abhishek\"],\n",
    "      'id':['cs2002','cs2008','cs7098','cs3409'],\n",
    "      'occupation':[\"Analyst\",\"Developer\",\"Manger\",\"Tester\"]}\n",
    "dict"
   ]
  },
  {
   "cell_type": "code",
   "execution_count": 7,
   "id": "7f92e3fd-d6c2-4538-b9bc-d1d7e87d3dd7",
   "metadata": {},
   "outputs": [],
   "source": [
    "dict.update({'salary':['800000','100000','450000','600000']})"
   ]
  },
  {
   "cell_type": "code",
   "execution_count": 8,
   "id": "fb39104b-ca3c-4fc5-b982-e6ee6e57fcb8",
   "metadata": {},
   "outputs": [
    {
     "data": {
      "text/plain": [
       "{'name': ['Debjeet', 'Debarati', 'Rohan', 'Abhishek'],\n",
       " 'id': ['cs2002', 'cs2008', 'cs7098', 'cs3409'],\n",
       " 'occupation': ['Analyst', 'Developer', 'Manger', 'Tester'],\n",
       " 'salary': ['800000', '100000', '450000', '600000']}"
      ]
     },
     "execution_count": 8,
     "metadata": {},
     "output_type": "execute_result"
    }
   ],
   "source": [
    "dict"
   ]
  }
 ],
 "metadata": {
  "kernelspec": {
   "display_name": "Python 3 (ipykernel)",
   "language": "python",
   "name": "python3"
  },
  "language_info": {
   "codemirror_mode": {
    "name": "ipython",
    "version": 3
   },
   "file_extension": ".py",
   "mimetype": "text/x-python",
   "name": "python",
   "nbconvert_exporter": "python",
   "pygments_lexer": "ipython3",
   "version": "3.11.7"
  }
 },
 "nbformat": 4,
 "nbformat_minor": 5
}
